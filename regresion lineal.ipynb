{
 "cells": [
  {
   "cell_type": "code",
   "execution_count": 2,
   "id": "ebf50d0f",
   "metadata": {},
   "outputs": [],
   "source": [
    "import numpy as np\n",
    "from scipy.stats import t, f"
   ]
  },
  {
   "cell_type": "code",
   "execution_count": 36,
   "id": "e84d1b17",
   "metadata": {},
   "outputs": [
    {
     "data": {
      "text/plain": [
       "5.117355029199227"
      ]
     },
     "execution_count": 36,
     "metadata": {},
     "output_type": "execute_result"
    }
   ],
   "source": [
    "t.ppf(0.95,9)\n",
    "\n",
    "f.ppf(0.95,1,9)"
   ]
  },
  {
   "cell_type": "code",
   "execution_count": 57,
   "id": "9a86aa4c",
   "metadata": {},
   "outputs": [],
   "source": [
    "def data_lecture(archivo):\n",
    "    arch = open(archivo,\"r\")\n",
    "    X=[]\n",
    "    Y=[]\n",
    "    for linea in arch:\n",
    "        linea=linea.strip().split(\",\")\n",
    "        X.append(linea[0])\n",
    "        Y.append(linea[1])\n",
    "    "
   ]
  },
  {
   "cell_type": "code",
   "execution_count": 108,
   "id": "4fa00157",
   "metadata": {},
   "outputs": [
    {
     "name": "stdout",
     "output_type": "stream",
     "text": [
      "[-5 -4 -3 -2 -1  0  1  2  3  4]\n",
      "[-4 -3 -2 -1  0  1  2  3  4  5]\n"
     ]
    }
   ],
   "source": [
    "X=np.array([-5,-4,-3,-2,-1,0,1,2,3,4,5])\n",
    "Y=np.array([1,5,4,7,10,8,9,13,14,13,18])\n",
    "\n",
    "\n",
    "print(X[:-1])\n",
    "print(X[1:])"
   ]
  },
  {
   "cell_type": "code",
   "execution_count": 109,
   "id": "0906fa72",
   "metadata": {},
   "outputs": [],
   "source": [
    "def constructor(X,Y):\n",
    "    n =  len(X)#-------------------------------------------------->Cantidad de puntos\n",
    "    \n",
    "    Xm = np.average(X)#------------------------------------------->Media del arreglo de datos X\n",
    "    \n",
    "    Ym = np.average(Y)#------------------------------------------->Media del arreglo de datos Y\n",
    "    \n",
    "    Sxx= np.sum(np.power(X-Xm,2))#--------------------------------->Medida de variabilidad de X\n",
    "    \n",
    "    Syy= np.sum(np.power(Y-Ym,2))#--------------------------------->Medida de variabilidad de Y\n",
    "    \n",
    "    Sxy= np.sum((X-Xm)*(Y-Ym))#------------------------------------>Medida de variabilidad conjunta X Y\n",
    "    \n",
    "    B1 = Sxy/Sxx#--------------------------------------------------->Coeficiente de regresion\n",
    "    \n",
    "    B0 = Ym-B1*Xm#-------------------------------------------------->\n",
    "    \n",
    "    Yi = lambda x:B1*x+B0#------------------------------------------>Funcion de regresion lineal\n",
    "    \n",
    "    Ya = Yi(X)#--------------------------------------------------->Arreglo de valores predichos a partir de X\n",
    "    \n",
    "    rxy= Sxy/np.power(Sxx*Syy,0.5)#-------------------------------->Coeficiente de correlacion\n",
    "    \n",
    "    r2xy=np.sum(np.power(Ya-Ym,2))/Syy#-------------------------->Coeficiente de determinacion\n",
    "    \n",
    "    ####################--------------->>>INTERVALOS DE CONFIANZA<<<-------------####################\n",
    "    \n",
    "    e =  np.array(Y-Ya)\n",
    "    \n",
    "    s2 = np.sum(np.power(e,2))/(n-2)\n",
    "    \n",
    "    s  = np.power(s2,0.5)\n",
    "    \n",
    "    VB0 =s2*np.sum(np.power(X,2))/(n*Sxx)\n",
    "    \n",
    "    VB1 =s2/Sxx\n",
    "    \n",
    "    ICB0=lambda a: np.array([B0-t.ppf(1-a/2,n-2)*np.power(VB0,0.5),B0+t.ppf(1-a/2,n-2)*np.power(VB0,0.5)])\n",
    "    \n",
    "    ICB1=lambda a: np.array([B1-t.ppf(1-a/2,n-2)*np.power(VB1,0.5),B1+t.ppf(1-a/2,n-2)*np.power(VB1,0.5)])\n",
    "    \n",
    "    ICYm =lambda x, a: np.array([Yi(x)-t.ppf(1-a/2,n-2)*s*np.power(1/n+np.power(x-Xm,2)/Sxx,0.5),\n",
    "                                Yi(x)+t.ppf(1-a/2,n-2)*s*np.power(1/n+np.power(x-Xm,2)/Sxx,0.5)])\n",
    "    \n",
    "    ICYv =lambda x, a: np.array([Yi(x)-t.ppf(1-a/2,n-2)*s*np.power(1+1/n+np.power(x-Xm,2)/Sxx,0.5),\n",
    "                                Yi(x)+t.ppf(1-a/2,n-2)*s*np.power(1+1/n+np.power(x-Xm,2)/Sxx,0.5)])\n",
    "    \n",
    "    ###-------------------------------ANOVA\n",
    "    \n",
    "    minX = min(X)\n",
    "    \n",
    "    maxX = max(X)\n",
    "    \n",
    "    rangeX=[minX,maxX]\n",
    "    \n",
    "    minY = min(Y)\n",
    "    \n",
    "    maxY = max(Y)\n",
    "    \n",
    "    rangeY=[minY,maxY]\n",
    "    \n",
    "    SCT = Syy\n",
    "    \n",
    "    SCR = np.sum(np.power(Ya-Ym,2))\n",
    "    \n",
    "    SCE = np.sum(np.power(Y-Ya,2))\n",
    "    \n",
    "    CMR= SCR/1\n",
    "    \n",
    "    CME= SCE/(n-2)\n",
    "    \n",
    "    F= CMR/CME\n",
    "    \n",
    "    fisher= lambda alpha:f.ppf(1-alpha,1,n-2)\n",
    "    \n",
    "    hypo= lambda alpha: True if (F-fisher(alpha))>1 else False\n",
    "    \n",
    "    ###---------------Docimas de hipotesis en regresion\n",
    "    \n",
    "    TB1 = lambda C: (B1-C)/((s)/np.power(Sxx,0.5))\n",
    "    TB0 = lambda I: (B0-I)/(s*np.power(np.sum(X**2/n*Sxx),0.5))\n",
    "    \n",
    "    ##----------------Durbin-Watson\n",
    "    \n",
    "    D = np.sum(np.power(e[1:]-e[:-1],2))/np.sum(np.power(e,2))\n",
    "    \n",
    "    \n",
    "    \n",
    "    \n",
    "    \n",
    "    terms=[\"n\",\"Xm\",\"Ym\",\"Sxx\",\"Sxy\",\"Syy\",\"B1\",\"B0\",\"Yi\",\"Ya\",\n",
    "           \"rxy\",\"r2xy\",\"e\",\"s\",\"s2\",\"VB0\",\"VB1\",\n",
    "           \"ICB0\",\"ICB1\",\"ICYm\",\"ICYv\",\n",
    "           \"minX\",\"maxX\",\"rangeX\",\"minY\",\"maxY\",\"rangeY\",\"SCT\",\"SCR\",\"SCE\",\"CMR\",\"CME\",\"F\",\"fisher\",\"hypo\",\n",
    "           \"TB1\",\"TB0\",\n",
    "           \"D\"]\n",
    "    \n",
    "    return dict(zip(terms,[n,Xm,Ym,Sxx,Sxy,Syy,B1,B0,Yi,Ya,\n",
    "                           rxy,r2xy,e,s,s2,VB0,VB1,\n",
    "                           ICB0,ICB1,ICYm,ICYv,\n",
    "                           minX,maxX,rangeX,minY,maxY,rangeY,SCT,SCR,SCE,CMR,CME,F,fisher,hypo,\n",
    "                           TB1,TB0,\n",
    "                           D]))\n"
   ]
  },
  {
   "cell_type": "code",
   "execution_count": 110,
   "id": "ae28b246",
   "metadata": {},
   "outputs": [],
   "source": [
    "data = constructor(X,Y)"
   ]
  },
  {
   "cell_type": "code",
   "execution_count": 96,
   "id": "899ecdf5",
   "metadata": {},
   "outputs": [
    {
     "name": "stdout",
     "output_type": "stream",
     "text": [
      "96.17979452054789\n",
      "5.117355029199227\n"
     ]
    },
    {
     "data": {
      "text/plain": [
       "True"
      ]
     },
     "execution_count": 96,
     "metadata": {},
     "output_type": "execute_result"
    }
   ],
   "source": [
    "print(data[\"F\"])\n",
    "print(data[\"fisher\"](0.05))\n",
    "\n",
    "data[\"hypo\"](0.05)\n"
   ]
  },
  {
   "cell_type": "code",
   "execution_count": 98,
   "id": "7f54f5a8",
   "metadata": {},
   "outputs": [
    {
     "data": {
      "text/plain": [
       "7.209283247522021"
      ]
     },
     "execution_count": 98,
     "metadata": {},
     "output_type": "execute_result"
    }
   ],
   "source": [
    "data[\"TB1\"](2)\n",
    "data[\"fisher\"](0.025)"
   ]
  },
  {
   "cell_type": "code",
   "execution_count": 111,
   "id": "5f4e71dd",
   "metadata": {},
   "outputs": [
    {
     "data": {
      "text/plain": [
       "2.5802459526774593"
      ]
     },
     "execution_count": 111,
     "metadata": {},
     "output_type": "execute_result"
    }
   ],
   "source": [
    "data[\"D\"]"
   ]
  },
  {
   "cell_type": "code",
   "execution_count": 22,
   "id": "f5210647",
   "metadata": {},
   "outputs": [
    {
     "name": "stdout",
     "output_type": "stream",
     "text": [
      "13.581818181818182\n",
      "[12.13763576 15.0260006 ]\n"
     ]
    }
   ],
   "source": [
    "print(data[\"Yi\"](3))\n",
    "print(data[\"ICYm\"](3,0.05))"
   ]
  },
  {
   "cell_type": "code",
   "execution_count": 33,
   "id": "90b740ff",
   "metadata": {},
   "outputs": [
    {
     "data": {
      "text/plain": [
       "2.842170943040401e-14"
      ]
     },
     "execution_count": 33,
     "metadata": {},
     "output_type": "execute_result"
    }
   ],
   "source": [
    "data[\"SCR\"]+data[\"SCE\"]-data[\"SCT\"]"
   ]
  }
 ],
 "metadata": {
  "kernelspec": {
   "display_name": "Python 3 (ipykernel)",
   "language": "python",
   "name": "python3"
  },
  "language_info": {
   "codemirror_mode": {
    "name": "ipython",
    "version": 3
   },
   "file_extension": ".py",
   "mimetype": "text/x-python",
   "name": "python",
   "nbconvert_exporter": "python",
   "pygments_lexer": "ipython3",
   "version": "3.9.12"
  }
 },
 "nbformat": 4,
 "nbformat_minor": 5
}
