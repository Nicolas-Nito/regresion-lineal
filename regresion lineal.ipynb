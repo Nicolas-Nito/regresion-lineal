{
 "cells": [
  {
   "cell_type": "code",
   "execution_count": 28,
   "id": "ebf50d0f",
   "metadata": {},
   "outputs": [],
   "source": [
    "import numpy as np\n",
    "from scipy.stats import t"
   ]
  },
  {
   "cell_type": "code",
   "execution_count": 31,
   "id": "e84d1b17",
   "metadata": {},
   "outputs": [
    {
     "data": {
      "text/plain": [
       "1.8331129326536335"
      ]
     },
     "execution_count": 31,
     "metadata": {},
     "output_type": "execute_result"
    }
   ],
   "source": [
    "t.ppf(0.95,9)"
   ]
  },
  {
   "cell_type": "code",
   "execution_count": 9,
   "id": "4fa00157",
   "metadata": {},
   "outputs": [],
   "source": [
    "X=np.array([-5,-4,-3,-2,-1,0,1,2,3,4,5])\n",
    "Y=np.array([1,5,4,7,10,8,9,13,14,13,18])"
   ]
  },
  {
   "cell_type": "code",
   "execution_count": 49,
   "id": "0906fa72",
   "metadata": {},
   "outputs": [],
   "source": [
    "def constructor(X,Y):\n",
    "    n =  len(X)#-------------------------------------------------->Cantidad de puntos\n",
    "    \n",
    "    Xm = np.average(X)#------------------------------------------->Media del arreglo de datos X\n",
    "    \n",
    "    Ym = np.average(Y)#------------------------------------------->Media del arreglo de datos Y\n",
    "    \n",
    "    Sxx= np.sum(np.power(X-Xm,2))#--------------------------------->Medida de variabilidad de X\n",
    "    \n",
    "    Syy= np.sum(np.power(Y-Ym,2))#--------------------------------->Medida de variabilidad de Y\n",
    "    \n",
    "    Sxy= np.sum((X-Xm)*(Y-Ym))#------------------------------------>Medida de variabilidad conjunta X Y\n",
    "    \n",
    "    B1 = Sxy/Sxx#--------------------------------------------------->Coeficiente de regresion\n",
    "    \n",
    "    B0 = Ym-B1*Xm#-------------------------------------------------->\n",
    "    \n",
    "    Yi = lambda x:B1*x+B0#------------------------------------------>Funcion de regresion lineal\n",
    "    \n",
    "    Ya = Yi(X)#--------------------------------------------------->Arreglo de valores predichos a partir de X\n",
    "    \n",
    "    rxy= Sxy/np.power(Sxx*Syy,0.5)#-------------------------------->Coeficiente de correlacion\n",
    "    \n",
    "    r2xy=np.sum(np.power(Ya-Ym,2))/Syy#-------------------------->Coeficiente de determinacion\n",
    "    \n",
    "    ####################--------------->>>INTERVALOS DE CONFIANZA<<<-------------####################\n",
    "    \n",
    "    e =  np.array(Y-Ya)\n",
    "    \n",
    "    s2 = np.sum(np.power(e,2))/(n-2)\n",
    "    \n",
    "    VB0 =s2*np.sum(np.power(X,2))/(n*Sxx)\n",
    "    \n",
    "    VB1 =s2/Sxx\n",
    "    \n",
    "    ICB0=lambda a: np.array([B0-t.ppf(1-a/2,n-2)*np.power(VB0,0.5),B0+t.ppf(1-a/2,n-2)*np.power(VB0,0.5)])\n",
    "    \n",
    "    ICB1=lambda a: np.array([B1-t.ppf(1-a/2,n-2)*np.power(VB1,0.5),B1+t.ppf(1-a/2,n-2)*np.power(VB1,0.5)])\n",
    "    \n",
    "    \n",
    "    \n",
    "    terms=[\"n\",\"Xm\",\"Ym\",\"Sxx\",\"Sxy\",\"Syy\",\"B1\",\"B0\",\"Yi\",\"Ya\",\"rxy\",\"r2xy\",\"e\",\"s2\",\"VB0\",\"VB1\",\"ICB0\",\"ICB1\"]\n",
    "    return dict(zip(terms,[n,Xm,Ym,Sxx,Sxy,Syy,B1,B0,Yi,Ya,rxy,r2xy,e,s2,VB0,VB1,ICB0,ICB1]))\n"
   ]
  },
  {
   "cell_type": "code",
   "execution_count": 50,
   "id": "ae28b246",
   "metadata": {},
   "outputs": [],
   "source": [
    "data = constructor(X,Y)"
   ]
  },
  {
   "cell_type": "code",
   "execution_count": 51,
   "id": "899ecdf5",
   "metadata": {},
   "outputs": [
    {
     "data": {
      "text/plain": [
       "{'n': 11,\n",
       " 'Xm': 0.0,\n",
       " 'Ym': 9.272727272727273,\n",
       " 'Sxx': 110.0,\n",
       " 'Sxy': 158.0,\n",
       " 'Syy': 248.18181818181813,\n",
       " 'B1': 1.4363636363636363,\n",
       " 'B0': 9.272727272727273,\n",
       " 'Yi': <function __main__.constructor.<locals>.<lambda>(x)>,\n",
       " 'Ya': array([ 2.09090909,  3.52727273,  4.96363636,  6.4       ,  7.83636364,\n",
       "         9.27272727, 10.70909091, 12.14545455, 13.58181818, 15.01818182,\n",
       "        16.45454545]),\n",
       " 'rxy': 0.9562595016167079,\n",
       " 'r2xy': 0.9144322344322344,\n",
       " 'e': array([-1.09090909,  1.47272727, -0.96363636,  0.6       ,  2.16363636,\n",
       "        -1.27272727, -1.70909091,  0.85454545,  0.41818182, -2.01818182,\n",
       "         1.54545455]),\n",
       " 's2': 2.3595959595959606,\n",
       " 'VB0': 0.21450872359963277,\n",
       " 'VB1': 0.021450872359963277,\n",
       " 'ICB0': <function __main__.constructor.<locals>.<lambda>(a)>,\n",
       " 'ICB1': <function __main__.constructor.<locals>.<lambda>(a)>}"
      ]
     },
     "execution_count": 51,
     "metadata": {},
     "output_type": "execute_result"
    }
   ],
   "source": [
    "data"
   ]
  },
  {
   "cell_type": "code",
   "execution_count": 52,
   "id": "f5210647",
   "metadata": {},
   "outputs": [
    {
     "data": {
      "text/plain": [
       "array([1.10504547, 1.76768181])"
      ]
     },
     "execution_count": 52,
     "metadata": {},
     "output_type": "execute_result"
    }
   ],
   "source": [
    "data[\"ICB1\"](0.05)"
   ]
  }
 ],
 "metadata": {
  "kernelspec": {
   "display_name": "Python 3 (ipykernel)",
   "language": "python",
   "name": "python3"
  },
  "language_info": {
   "codemirror_mode": {
    "name": "ipython",
    "version": 3
   },
   "file_extension": ".py",
   "mimetype": "text/x-python",
   "name": "python",
   "nbconvert_exporter": "python",
   "pygments_lexer": "ipython3",
   "version": "3.7.13"
  }
 },
 "nbformat": 4,
 "nbformat_minor": 5
}
